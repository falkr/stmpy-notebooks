{
 "cells": [
  {
   "cell_type": "markdown",
   "metadata": {},
   "source": [
    "# Polling With Two State Machines\n",
    "\n",
    "One team asked how they should incorporate a sensor into their design. Some sensors have an interface that requires you to check periodically if the sensor value changed in a specific way that is interesting to you. For instance, a passive infrared sensor (PIR) may require that you poll regularly if it detected a motion. Or you want to check if a tmperature sensor has detected a change in temperature. \n",
    "\n",
    "When we check  a sensor periodically, we also call that **polling**. In a state machine, this is easy to implement with a transition that is periodocally triggered by a timer. Of course, you can integrate polling into the state machine for your main logic. But this can make the main state machine quite complex. Instead, you can also do the polling in a separate state machine, and only send a signal to another state machine if you detected a significant change. \n",
    "\n",
    "This notebook is walking through an example step by step. You can execute each cell that contains Python code cell by cell. Just select the cell, then press Shift + Enter. This executes the cell and moves to the next one.\n",
    "\n",
    "Let's first get STMPY and the other libraries from the basement. When this tutorial is life, you should have STMPY 0.5 at least. If you havent, update. Otherwise this will not work."
   ]
  },
  {
   "cell_type": "code",
   "execution_count": null,
   "metadata": {},
   "outputs": [],
   "source": [
    "from stmpy import Machine, Driver\n",
    "import stmpy\n",
    "import ipywidgets as widgets\n",
    "from IPython.display import display\n",
    "print(stmpy.__version__)"
   ]
  },
  {
   "cell_type": "markdown",
   "metadata": {},
   "source": [
    "We want to periodically check the temperature. Just for this demonstration, we use a global variable that keeps the temperature. We do this by a global variable. For some reason it only seems to work when we use a list and update the variable by adding elements to that list. THis is more a technical detail. Just imagine that this global variable represents the temperature we want to measure.\n",
    "\n",
    "(You need to execute all Python cells, so also the next one.)"
   ]
  },
  {
   "cell_type": "code",
   "execution_count": null,
   "metadata": {},
   "outputs": [],
   "source": [
    "global temperature\n",
    "temperature = [21.0]"
   ]
  },
  {
   "cell_type": "markdown",
   "metadata": {},
   "source": [
    "Now we need some way for you to change the temperature. For this we use a slider widget. The widgets are documented [here][widget].\n",
    "\n",
    "[widget]: https://ipywidgets.readthedocs.io/en/latest/examples/Widget%20List.html"
   ]
  },
  {
   "cell_type": "code",
   "execution_count": null,
   "metadata": {},
   "outputs": [],
   "source": [
    "def handle_slider_change(slider_value):\n",
    "    # change the global variable by appending the new value to the list\n",
    "    temperature.append(slider_value['new'])\n",
    "\n",
    "\n",
    "# display a horizontal slider\n",
    "temp_slider = widgets.FloatSlider(value=21.0, min=-10, max=40.0, step=0.5, description='Temp:', continuous_update=True)\n",
    "temp_slider.observe(handle_slider_change, names='value')\n",
    "display(temp_slider)"
   ]
  },
  {
   "cell_type": "markdown",
   "metadata": {},
   "source": [
    "Adjust the temperature above, then execute the cell below. You should see that the global variable of the temperature changes. (Index -1 means we are getting the last value of the list.)"
   ]
  },
  {
   "cell_type": "code",
   "execution_count": null,
   "metadata": {},
   "outputs": [],
   "source": [
    "temperature[-1]"
   ]
  },
  {
   "cell_type": "markdown",
   "metadata": {},
   "source": [
    "Now we construct a state machine that constantly polls the value of the temperature, and that creates a signal when the temperature changes. We use a compound transition for this, implemented by a Python function. Execute the cell below. It only builds the state machine, but does not yet start it, so nothing will be visible. "
   ]
  },
  {
   "cell_type": "code",
   "execution_count": null,
   "metadata": {},
   "outputs": [],
   "source": [
    "class Polling:\n",
    "    \n",
    "    def __init__(self):\n",
    "        self.last_temp = -100.0\n",
    "    \n",
    "    def check_temperature(self):\n",
    "        # reading the global variable (taking last element)\n",
    "        temp = temperature[-1]\n",
    "        if self.last_temp != temp:\n",
    "            # we detected a change, so send a signal!\n",
    "            self.stm.driver.send('temp_change', 'stm_receiver', args=[temp])\n",
    "            print('sending signal')\n",
    "        self.last_temp = temp\n",
    "        return 's_polling'\n",
    "    \n",
    "polling = Polling()\n",
    "\n",
    "t0 = {'source': 'initial',\n",
    "      'target': 's_polling'}\n",
    "\n",
    "# compound transition\n",
    "t1 = {'trigger':'timeout',\n",
    "      'source':'s_polling',\n",
    "      'function': polling.check_temperature}\n",
    "\n",
    "s_polling = {'name': 's_polling',\n",
    "            'entry': 'start_timer(\"timeout\", \"1000\")'}\n",
    "\n",
    "stm_polling = Machine(name='stm_polling', transitions=[t0, t1], states=[s_polling], obj=polling)\n",
    "polling.stm = stm_polling"
   ]
  },
  {
   "cell_type": "markdown",
   "metadata": {},
   "source": [
    "We also create a state machine that receives the signal when the temperature is updated. In a real system, this would be a more complex state machine that reacts to a temperature change and for instance controls another device. Execute the cell. It should then show a text field that will show the temperature update value as received when we start everything."
   ]
  },
  {
   "cell_type": "code",
   "execution_count": null,
   "metadata": {},
   "outputs": [],
   "source": [
    "class Receiver:\n",
    "    \n",
    "    def __init__(self):\n",
    "        self.text = widgets.Text(value='', placeholder='', description='Received:', disabled=False)\n",
    "        display(self.text)\n",
    "    \n",
    "    def update_field(self, temp):\n",
    "        text = '{}'.format(temp)\n",
    "        self.text.set_trait(name='value', value=text)\n",
    "    \n",
    "receiver = Receiver()\n",
    "\n",
    "t0 = {'source': 'initial',\n",
    "      'target': 'receiving'}\n",
    "\n",
    "t1 = {'trigger': 'temp_change',\n",
    "      'source' : 'receiving',\n",
    "      'target' : 'receiving',\n",
    "      'effect' : 'update_field(*)'}\n",
    "\n",
    "stm_receiver = Machine(name='stm_receiver', transitions=[t0, t1], obj=receiver)\n",
    "receiver.stm = stm_receiver"
   ]
  },
  {
   "cell_type": "markdown",
   "metadata": {},
   "source": [
    "Here is a diagram of the two machines communicating with each other:\n",
    "\n",
    "![](images/polling/polling.png)"
   ]
  },
  {
   "cell_type": "markdown",
   "metadata": {},
   "source": [
    "Now let's start eveything. Execute the cell below, then play with the slide from above to change the temperature. You should see that the value above only changes when it receives an update from the timer, that means, once every second. "
   ]
  },
  {
   "cell_type": "code",
   "execution_count": null,
   "metadata": {},
   "outputs": [],
   "source": [
    "driver = Driver()\n",
    "driver.add_machine(stm_polling)\n",
    "driver.add_machine(stm_receiver)\n",
    "driver.start()"
   ]
  },
  {
   "cell_type": "markdown",
   "metadata": {},
   "source": [
    "(You may want to stop the cell with the stop button above in the menu.)"
   ]
  },
  {
   "cell_type": "markdown",
   "metadata": {},
   "source": [
    "## What just happened?\n",
    "\n",
    "Of course, this was a demonstration of two communicating machines. And we used a lot of cosde just for providing the context in which they communicate. So don't make the mistake and think that this is something we do for creating user interfaces for Python. In that case, the solution would be simpler. \n",
    "\n",
    "The example showed how one state machine can constantly poll a value, and then prodiuce a simple signal once it found something that another machine is interested in. In this way, you can reduce the complexity of a lot of machines and a lot of concurrent logic.\n"
   ]
  }
 ],
 "metadata": {
  "kernelspec": {
   "display_name": "Python 3 (ipykernel)",
   "language": "python",
   "name": "python3"
  },
  "language_info": {
   "codemirror_mode": {
    "name": "ipython",
    "version": 3
   },
   "file_extension": ".py",
   "mimetype": "text/x-python",
   "name": "python",
   "nbconvert_exporter": "python",
   "pygments_lexer": "ipython3",
   "version": "3.10.0"
  }
 },
 "nbformat": 4,
 "nbformat_minor": 4
}
