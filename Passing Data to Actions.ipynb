{
 "cells": [
  {
   "cell_type": "markdown",
   "metadata": {},
   "source": [
    "# Passing Data to Actions\n",
    "\n",
    "It is possible to pass data into a state machine as part of a signal trigger, so that the data can be used by an action. For that, make sure three parts are in place:\n",
    "\n",
    "* The action can declare arguments (args) and keyword arguments (kwargs) in the Python code.\n",
    "* The action is referred to in the transition with a `(*)` that signals to STMPY to pass on the arguments that it receives from the signal trigger.\n",
    "* The signal trigger is dispatched as usual using the driver's or the state machine's `send` method. The `send`method allows to pass through the data, using the parameters `args` and `kwargs`.\n",
    "\n",
    "Have a look below for a minimal example. (The state machine does not do anything useful.)"
   ]
  },
  {
   "cell_type": "code",
   "execution_count": 4,
   "metadata": {},
   "outputs": [
    {
     "name": "stdout",
     "output_type": "stream",
     "text": [
      "m1\n",
      "m2 with 2\n",
      "m3 with 2 and 3\n",
      "m3 with 3\n",
      "m3 with 2 and 3\n"
     ]
    }
   ],
   "source": [
    "from stmpy import Driver, Machine\n",
    "\n",
    "class Logic:\n",
    "    def m1(self):\n",
    "        print(\"m1\")\n",
    "\n",
    "    def m2(self, a):\n",
    "        print(\"m2 with {}\".format(a))\n",
    "\n",
    "    def m3(self, a, b):\n",
    "        print(\"m3 with {} and {}\".format(a, b))\n",
    "\n",
    "    def m4(self, b=1):\n",
    "        print(\"m3 with {}\".format(b))\n",
    "\n",
    "    def m5(self, a, b=1):\n",
    "        print(\"m3 with {} and {}\".format(a, b))\n",
    "\n",
    "\n",
    "logic = Logic()\n",
    "\n",
    "t0 = {\"source\": \"initial\", \"target\": \"idle\"}\n",
    "\n",
    "# we declare a few self-transition, which just call the method with\n",
    "# different arguments\n",
    "t1 = {\"trigger\": \"s1\", \"source\": \"idle\", \"target\": \"idle\", \"effect\": \"m1(*)\"}\n",
    "t2 = {\"trigger\": \"s2\", \"source\": \"idle\", \"target\": \"idle\", \"effect\": \"m2(*)\"}\n",
    "t3 = {\"trigger\": \"s3\", \"source\": \"idle\", \"target\": \"idle\", \"effect\": \"m3(*)\"}\n",
    "t4 = {\"trigger\": \"s4\", \"source\": \"idle\", \"target\": \"idle\", \"effect\": \"m4(*)\"}\n",
    "t5 = {\"trigger\": \"s5\", \"source\": \"idle\", \"target\": \"idle\", \"effect\": \"m5(*)\"}\n",
    "\n",
    "machine = Machine(name=\"logic\", transitions=[t0, t1, t2, t3, t4, t5], obj=logic)\n",
    "logic.stm = machine\n",
    "\n",
    "driver = Driver()\n",
    "driver.add_machine(machine)\n",
    "driver.start()\n",
    "\n",
    "# here we actually send the signals that transport the data taken\n",
    "# as arguments into the method\n",
    "machine.send(\"s1\")\n",
    "machine.send(\"s2\", args=[2])\n",
    "machine.send(\"s3\", args=[2, 3])\n",
    "machine.send(\"s4\", kwargs={\"b\": 3})\n",
    "machine.send(\"s5\", args=[2], kwargs={\"b\": 3})"
   ]
  }
 ],
 "metadata": {
  "kernelspec": {
   "display_name": "Python 3",
   "language": "python",
   "name": "python3"
  },
  "language_info": {
   "codemirror_mode": {
    "name": "ipython",
    "version": 3
   },
   "file_extension": ".py",
   "mimetype": "text/x-python",
   "name": "python",
   "nbconvert_exporter": "python",
   "pygments_lexer": "ipython3",
   "version": "3.8.5"
  }
 },
 "nbformat": 4,
 "nbformat_minor": 5
}
