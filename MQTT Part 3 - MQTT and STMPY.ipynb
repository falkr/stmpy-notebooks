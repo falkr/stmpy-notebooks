{
 "cells": [
  {
   "cell_type": "markdown",
   "metadata": {},
   "source": [
    "# Combining MQTT and STMPY\n",
    "\n",
    "In this notebook, we want to combine MQTT with a STMPY state machine. For just getting this first connection implemented, the result does nothing really useful, but should be easy to run and debug. I promise, the system we are going to build next week based on what we learn this week will be more useful, but this way we can learn one thing at a time.\n",
    "\n",
    "The application is simple:\n",
    "\n",
    " * We subscribe to an MQTT topic.\n",
    " * Whenever we receive a message at that topic, we trigger an event `message` in the state machine.\n",
    " * The state machine just switches between to states `tick` and `tock`.\n",
    " * Whenver the state machine switches, it also publishes an MQTT message that show the number of ticks and tocks.\n",
    " \n",
    "Here is the diagram of the machine:\n",
    "\n",
    "![](images/mqtt-tick-tock.png)\n",
    "\n",
    "Let us first declare this machine, in the same way we did it before in STMPY:"
   ]
  },
  {
   "cell_type": "code",
   "execution_count": null,
   "metadata": {},
   "outputs": [],
   "source": [
    "from stmpy import Driver, Machine\n",
    "\n",
    "\n",
    "class Tick:\n",
    "    def on_init(self):\n",
    "        print(\"Init!\")\n",
    "        self.ticks = 0\n",
    "        self.tocks = 0\n",
    "\n",
    "    def send_mqtt_tick(self):\n",
    "        print(\"Tick! {}\".format(self.ticks))\n",
    "        self.ticks = self.ticks + 1\n",
    "        self.mqtt_client.publish(\"tick\", self.ticks)\n",
    "\n",
    "    def send_mqtt_tock(self):\n",
    "        print(\"Tock! {}\".format(self.tocks))\n",
    "        self.tocks = self.tocks + 1\n",
    "        self.mqtt_client.publish(\"tock\", self.ticks)\n",
    "\n",
    "\n",
    "# initial transition\n",
    "t0 = {\"source\": \"initial\", \"target\": \"s_tick\", \"effect\": \"on_init\"}\n",
    "\n",
    "t1 = {\n",
    "    \"trigger\": \"message\",\n",
    "    \"source\": \"s_tick\",\n",
    "    \"target\": \"s_tock\",\n",
    "    \"effect\": \"send_mqtt_tick\",\n",
    "}\n",
    "\n",
    "t2 = {\n",
    "    \"trigger\": \"message\",\n",
    "    \"source\": \"s_tock\",\n",
    "    \"target\": \"s_tick\",\n",
    "    \"effect\": \"send_mqtt_tock\",\n",
    "}"
   ]
  },
  {
   "cell_type": "markdown",
   "metadata": {},
   "source": [
    "The coupling with MQTT is only visible at a few points:\n",
    "\n",
    " * We use the line `self.mqtt_client.publish('tick', self.ticks)` to publish the MQTT message. We just need to remember to set the variable `self.mqtt_client` with the Paho MQTT client. (Note that we here use the Paho client direclty, not our wrapper class MQTT_Client_1).\n",
    " * The state machine is triggered by the message `message`. This will be dispatched by the MQTT client."
   ]
  },
  {
   "cell_type": "code",
   "execution_count": null,
   "metadata": {},
   "outputs": [],
   "source": [
    "from threading import Thread\n",
    "\n",
    "import paho.mqtt.client as mqtt\n",
    "\n",
    "\n",
    "class MQTT_Client_1:\n",
    "    def __init__(self):\n",
    "        self.count = 0\n",
    "        self.client = mqtt.Client()\n",
    "        self.client.on_connect = self.on_connect\n",
    "        self.client.on_message = self.on_message\n",
    "\n",
    "    def on_connect(self, client, userdata, flags, rc):\n",
    "        print(\"on_connect(): {}\".format(mqtt.connack_string(rc)))\n",
    "\n",
    "    def on_message(self, client, userdata, msg):\n",
    "        print(\"on_message(): topic: {}\".format(msg.topic))\n",
    "        self.stm_driver.send(\"message\", \"tick_tock\")\n",
    "\n",
    "    def start(self, broker, port):\n",
    "\n",
    "        print(\"Connecting to {}:{}\".format(broker, port))\n",
    "        self.client.connect(broker, port)\n",
    "\n",
    "        self.client.subscribe(\"ttm4115\")\n",
    "\n",
    "        try:\n",
    "            # line below should not have the () after the function!\n",
    "            thread = Thread(target=self.client.loop_forever)\n",
    "            thread.start()\n",
    "        except KeyboardInterrupt:\n",
    "            print(\"Interrupted\")\n",
    "            self.client.disconnect()"
   ]
  },
  {
   "cell_type": "markdown",
   "metadata": {},
   "source": [
    "Our MQTT client above is now configured so that whenever it receives an MQTT message, it dispatches a message into the state machine driver, with the `tick_tock` machine as address, so that it is sent to the state machine. There, it triggers the transitions.\n",
    "\n",
    "In the following, we start the MQTT client and the state machine driver, connect them with each other, and start everything:"
   ]
  },
  {
   "cell_type": "code",
   "execution_count": null,
   "metadata": {},
   "outputs": [],
   "source": [
    "# broker, port = 'iot.eclipse.org', 1883\n",
    "broker, port = \"localhost\", 1883\n",
    "\n",
    "tick = Tick()\n",
    "tick_tock_machine = Machine(transitions=[t0, t1, t2], obj=tick, name=\"tick_tock\")\n",
    "tick.stm = tick_tock_machine\n",
    "\n",
    "driver = Driver()\n",
    "driver.add_machine(tick_tock_machine)\n",
    "\n",
    "myclient = MQTT_Client_1()\n",
    "tick.mqtt_client = myclient.client\n",
    "myclient.stm_driver = driver\n",
    "\n",
    "driver.start()\n",
    "myclient.start(broker, port)"
   ]
  },
  {
   "cell_type": "code",
   "execution_count": null,
   "metadata": {},
   "outputs": [],
   "source": []
  }
 ],
 "metadata": {
  "kernelspec": {
   "display_name": "Python 3",
   "language": "python",
   "name": "python3"
  },
  "language_info": {
   "codemirror_mode": {
    "name": "ipython",
    "version": 3
   },
   "file_extension": ".py",
   "mimetype": "text/x-python",
   "name": "python",
   "nbconvert_exporter": "python",
   "pygments_lexer": "ipython3",
   "version": "3.8.5"
  }
 },
 "nbformat": 4,
 "nbformat_minor": 4
}
