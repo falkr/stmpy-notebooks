{
 "cells": [
  {
   "cell_type": "markdown",
   "metadata": {},
   "source": [
    "# MQTT Part 2 - Connect and Publish\n",
    "\n",
    "\n",
    "The code below is a MQTT client that subscribes to a topic. Whenever it receives a message for that topic, it uses the client to publish a new MQTT message, taking the original payload as content. "
   ]
  },
  {
   "cell_type": "code",
   "execution_count": 3,
   "metadata": {},
   "outputs": [],
   "source": [
    "from threading import Thread\n",
    "\n",
    "import paho.mqtt.client as mqtt\n",
    "\n",
    "\n",
    "class MQTT_Client_1:\n",
    "    def __init__(self):\n",
    "        self.count = 0\n",
    "\n",
    "    def on_connect(self, client, userdata, flags, rc):\n",
    "        print(\"on_connect(): {}\".format(mqtt.connack_string(rc)))\n",
    "\n",
    "    def on_message(self, client, userdata, msg):\n",
    "        print(\"on_message(): topic: {}\".format(msg.topic))\n",
    "        self.count = self.count + 1\n",
    "        try:\n",
    "            self.client.publish(\"frank\", msg.payload)\n",
    "        except e:\n",
    "            print(e)\n",
    "\n",
    "        if self.count == 5:\n",
    "            self.client.disconnect()\n",
    "            print(\"disconnected after 5 forwards\")\n",
    "\n",
    "    def start(self, broker, port):\n",
    "        self.client = mqtt.Client()\n",
    "        self.client.on_connect = self.on_connect\n",
    "        self.client.on_message = self.on_message\n",
    "        print(\"Connecting to {}:{}\".format(broker, port))\n",
    "        self.client.connect(broker, port)\n",
    "\n",
    "        self.client.subscribe(\"ttm4115\")\n",
    "\n",
    "        try:\n",
    "            thread = Thread(target=self.client.loop_forever)\n",
    "            thread.start()\n",
    "        except KeyboardInterrupt:\n",
    "            print(\"Interrupted\")\n",
    "            self.client.disconnect()"
   ]
  },
  {
   "cell_type": "markdown",
   "metadata": {},
   "source": [
    "* In line 16, we publish, for now to the topic `frank`. Change that topic so you don't collide with other teams working at the same time in case you use a public MQTT broker.\n",
    "* In line 31, we subscribe to topic `ttm4115`. You may want to change that as well if you don't work on your own broker.\n",
    "\n",
    "The cell below chooses the MQTT broker and starts everything. "
   ]
  },
  {
   "cell_type": "code",
   "execution_count": 4,
   "metadata": {},
   "outputs": [
    {
     "name": "stdout",
     "output_type": "stream",
     "text": [
      "Connecting to localhost:1883\n",
      "on_connect(): Connection Accepted.\n",
      "on_message(): topic: ttm4115\n",
      "on_message(): topic: ttm4115\n",
      "on_message(): topic: ttm4115\n",
      "on_message(): topic: ttm4115\n",
      "on_message(): topic: ttm4115\n",
      "disconnected after 5 forwards\n"
     ]
    }
   ],
   "source": [
    "# broker, port = 'iot.eclipse.org', 1883\n",
    "broker, port = \"localhost\", 1883\n",
    "\n",
    "myclient = MQTT_Client_1()\n",
    "myclient.start(broker, port)"
   ]
  },
  {
   "cell_type": "markdown",
   "metadata": {},
   "source": [
    "Check with MQTT.FX that you actually forward the message to the new topic, and check that its payload is the one from the original message."
   ]
  },
  {
   "cell_type": "code",
   "execution_count": null,
   "metadata": {},
   "outputs": [],
   "source": []
  }
 ],
 "metadata": {
  "kernelspec": {
   "display_name": "Python 3",
   "language": "python",
   "name": "python3"
  },
  "language_info": {
   "codemirror_mode": {
    "name": "ipython",
    "version": 3
   },
   "file_extension": ".py",
   "mimetype": "text/x-python",
   "name": "python",
   "nbconvert_exporter": "python",
   "pygments_lexer": "ipython3",
   "version": "3.8.5"
  }
 },
 "nbformat": 4,
 "nbformat_minor": 4
}
