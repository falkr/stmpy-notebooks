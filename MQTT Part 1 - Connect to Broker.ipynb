{
 "cells": [
  {
   "cell_type": "markdown",
   "metadata": {},
   "source": [
    "# MQTT Part 1: Subscribe and Publish\n",
    "\n",
    "\n",
    "\n",
    "## MQTT Client for Python: Paho\n",
    "\n",
    "\n",
    "Paho and is an [open-source Eclipse project](https://www.eclipse.org/paho/) that provides support for an MQTT client in Python. \n",
    "\n",
    "Just run the cell below to install the Python packages:"
   ]
  },
  {
   "cell_type": "code",
   "execution_count": null,
   "metadata": {},
   "outputs": [],
   "source": [
    "!python3 -m pip install --upgrade paho-mqtt"
   ]
  },
  {
   "cell_type": "markdown",
   "metadata": {},
   "source": [
    "Read the output. If this command fails, use the pip command on your command line.\n",
    "\n",
    "    python3 -m pip install --upgrade paho-mqtt\n",
    "\n",
    "The [API docs of Paho are here](https://pypi.python.org/pypi/paho-mqtt).\n",
    "\n",
    "We then need to import the package:"
   ]
  },
  {
   "cell_type": "code",
   "execution_count": null,
   "metadata": {},
   "outputs": [],
   "source": [
    "import paho.mqtt.client as mqtt"
   ]
  },
  {
   "cell_type": "markdown",
   "metadata": {},
   "source": [
    "## MQTT Broker\n",
    "\n",
    "For the communication via MQTT, you need an MQTT broker. \n",
    "\n",
    "* You can start your own MQTT broker so you have control over everything, but this may not work when you are on your local network (at home) and want to connect with others that should use the same broker.\n",
    "\n",
    "* You can use the MQTT broker for this course, with the address `mqtt.item.ntnu.no`.\n",
    "\n",
    "* For some testing and prototyping, you can also use some of the open MQTT brokers from various projects. Some of them are listed here: <https://github.com/mqtt/mqtt.github.io/wiki/public_brokers>\n",
    "\n",
    "Of course, never send any sensitive information via these servers."
   ]
  },
  {
   "cell_type": "code",
   "execution_count": null,
   "metadata": {},
   "outputs": [],
   "source": [
    "# broker, port = 'test.mosquitto.org', 1883\n",
    "# broker, port = 'mqtt.flespi.io', 1883\n",
    "# broker, port = 'mqtt.eclipse.org', 1883\n",
    "\n",
    "# settings for a local MQTT broker on the same machine:\n",
    "# broker, port = 'localhost', 1883\n",
    "broker, port = \"mqtt.item.ntnu.no\", 1883"
   ]
  },
  {
   "cell_type": "markdown",
   "metadata": {},
   "source": [
    "## Our Own MQTT Client in Python\n",
    "\n",
    "We now want to create our own MQTT client. What we want to achieve is the following:\n",
    "\n",
    " * Connect to one of the public MQTT brokers.\n",
    " * Subscribe to the topic #.\n",
    " * List the incoming messages.\n",
    " * Disconnect after we received 20 messages.\n",
    " \n",
    "The class below contains the code we need. We deciced to declare this as a Python class, since we want to have a variable `count` that counts the number of incoming messages, for then disconnecting after we received 20. Declaring a class gives us a good way to share the `count` variable. "
   ]
  },
  {
   "cell_type": "code",
   "execution_count": null,
   "metadata": {},
   "outputs": [],
   "source": [
    "from threading import Thread\n",
    "\n",
    "\n",
    "class MQTT_Client_1:\n",
    "    def __init__(self):\n",
    "        self.count = 0\n",
    "        print(self.count)\n",
    "\n",
    "    def on_connect(self, client, userdata, flags, rc):\n",
    "        print(\"on_connect(): {}\".format(mqtt.connack_string(rc)))\n",
    "\n",
    "    def on_message(self, client, userdata, msg):\n",
    "        print(\"on_message(): topic: {}\".format(msg.topic))\n",
    "        self.count = self.count + 1\n",
    "        if self.count == 20:\n",
    "            self.client.disconnect()\n",
    "            print(\"disconnected after 20 messages\")\n",
    "\n",
    "    def start(self, broker, port):\n",
    "        self.client = mqtt.Client()\n",
    "        self.client.on_connect = self.on_connect\n",
    "        self.client.on_message = self.on_message\n",
    "        print(\"Connecting to {}:{}\".format(broker, port))\n",
    "        self.client.connect(broker, port)\n",
    "\n",
    "        self.client.subscribe(\"#\")\n",
    "        try:\n",
    "            thread = Thread(target=self.client.loop_forever)\n",
    "            thread.start()\n",
    "        except KeyboardInterrupt:\n",
    "            print(\"Interrupted\")\n",
    "            self.client.disconnect()"
   ]
  },
  {
   "cell_type": "markdown",
   "metadata": {},
   "source": [
    "Above we declare a class `MQTT_Client_1` that encapsulates the Paho MQTT client with our own logic. \n",
    "\n",
    " * The method `__init__()` is called when we construct an instance of the class. We use it here to set our counter to 0. Note that we use `self.count` to declare this variable, so it is available also in the other methods.\n",
    " * The method `on_connect()` is called by the Paho client once a connection is established. We just print out a decoded form of the message we receive back to be sure about what is going on.\n",
    " * The method `on_message()` will be called by the Paho client every time we receive an MQTT message. Since we want to disconnect after the first 20 messages, we increase the counter in this method and also have the code for disconnection.\n",
    " * The method `start()` creates the client an connect to the broker. \n",
    "   * It also subscribes to the topic. \n",
    "   * In the end, it starts a thread that will run the client forever. \n",
    "   * We place this into a thread so that the notebook still stays responsive and prints on the received messages.\n",
    "   * We also catch any KeyInterrupt error, in case you interrupt a notebook cell, so that we disconnect properly."
   ]
  },
  {
   "cell_type": "code",
   "execution_count": null,
   "metadata": {},
   "outputs": [],
   "source": [
    "myclient = MQTT_Client_1()\n",
    "myclient.start(broker, port)"
   ]
  },
  {
   "cell_type": "code",
   "execution_count": null,
   "metadata": {},
   "outputs": [],
   "source": []
  }
 ],
 "metadata": {
  "kernelspec": {
   "display_name": "Python 3",
   "language": "python",
   "name": "python3"
  },
  "language_info": {
   "codemirror_mode": {
    "name": "ipython",
    "version": 3
   },
   "file_extension": ".py",
   "mimetype": "text/x-python",
   "name": "python",
   "nbconvert_exporter": "python",
   "pygments_lexer": "ipython3",
   "version": "3.8.5"
  }
 },
 "nbformat": 4,
 "nbformat_minor": 4
}
