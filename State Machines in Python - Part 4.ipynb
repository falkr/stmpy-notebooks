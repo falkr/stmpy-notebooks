{
 "cells": [
  {
   "cell_type": "markdown",
   "metadata": {},
   "source": [
    "# State Machines in Python - Part 4\n",
    "\n",
    "## Decisions\n",
    "\n",
    "Have a look at the state machine below. It includes a transition with a decision inside. Depending on a coin toss, the transition either ends in state `heads` or `tails`. How should we implement such a transition? \n",
    "\n",
    "- The transitions we have seen so far all had a static target state, determined by the dict that defined it.\n",
    "- The choice may depend on all sorts of functions or variables. In the diagram we just write 'toss a coin', but in the Python code we want to code that as a convenient if-statement."
   ]
  },
  {
   "cell_type": "markdown",
   "metadata": {},
   "source": [
    "<img src=\"images/coinflip.png\" style=\"max-width:100%;\" />"
   ]
  },
  {
   "cell_type": "markdown",
   "metadata": {},
   "source": [
    "We create the code for the state machine below. See the dict `t1` that is a **compound transition**. Instead of declaring a target state in the dict, it refers to a function. When you look at the function, you see that it implements the decision and returns a string that declares the next state. "
   ]
  },
  {
   "cell_type": "code",
   "execution_count": null,
   "metadata": {},
   "outputs": [],
   "source": [
    "from stmpy import Machine, Driver\n",
    "\n",
    "import ipywidgets as widgets\n",
    "from IPython.display import display\n",
    "\n",
    "import random\n",
    "\n",
    "class CoinFlip:\n",
    "    \n",
    "    def on_button_flip(self, b):\n",
    "        self.stm.send('flip') # <---- here we send a message\n",
    "            \n",
    "    def __init__(self):\n",
    "        # display the user interface\n",
    "        # a button\n",
    "        self.button_flip = widgets.Button(description=\"Flip\")\n",
    "        self.button_flip.on_click(self.on_button_flip)\n",
    "        \n",
    "        # text field\n",
    "        self.text = widgets.Text(value='', placeholder='', description='String:', disabled=False)\n",
    "        display(self.text, self.button_flip)\n",
    "    \n",
    "    def on_spinning(self):\n",
    "        self.text.set_trait(name='value', value='spinning...')\n",
    "\n",
    "    def on_heads(self):\n",
    "        self.text.set_trait(name='value', value='Heads!')\n",
    "        \n",
    "    def on_tails(self):\n",
    "        self.text.set_trait(name='value', value='Tails!')\n",
    "    \n",
    "    # Code for the compound transition:\n",
    "    def flip_compound_transition(self):\n",
    "        coin = random.randint(1,2)\n",
    "        if coin==1:\n",
    "            return 'heads'\n",
    "        else:\n",
    "            return 'tails'\n",
    "\n",
    "        \n",
    "coin_flip = CoinFlip()\n",
    "        \n",
    "# initial transition\n",
    "t0 = {'source': 'initial',\n",
    "      'target': 'spinning'}\n",
    "\n",
    "# compound transition\n",
    "t1 = {'trigger':'flip',\n",
    "      'source':'spinning',\n",
    "      'function': coin_flip.flip_compound_transition}\n",
    "\n",
    "# the other two regular transitions:\n",
    "t2 = {'trigger':'t', \n",
    "      'source':'heads', \n",
    "      'target':'spinning'}\n",
    "t3 = {'trigger':'t', \n",
    "      'source':'tails', \n",
    "      'target':'spinning'}\n",
    "\n",
    "# the states:\n",
    "spinning = {'name': 'spinning',\n",
    "            'entry': 'on_spinning'}\n",
    "\n",
    "heads = {'name': 'heads',\n",
    "        'entry': 'on_heads; start_timer(\"t\", 1000)'}\n",
    "\n",
    "tails = {'name': 'tails',\n",
    "        'entry': 'on_tails; start_timer(\"t\", 1000)'}\n",
    "\n",
    "\n",
    "# Change 4: We pass the set of states to the state machine\n",
    "machine = Machine(name='coin_flip', transitions=[t0, t1, t2, t3], obj=coin_flip, states=[spinning, heads, tails])\n",
    "coin_flip.stm = machine\n",
    "\n",
    "driver = Driver()\n",
    "driver.add_machine(machine)\n",
    "driver.start()"
   ]
  },
  {
   "cell_type": "markdown",
   "metadata": {},
   "source": [
    "## Run the Machine\n",
    "\n",
    "Of course, run the cell above and study the behavior. "
   ]
  }
 ],
 "metadata": {
  "kernelspec": {
   "display_name": "Python 3 (ipykernel)",
   "language": "python",
   "name": "python3"
  },
  "language_info": {
   "codemirror_mode": {
    "name": "ipython",
    "version": 3
   },
   "file_extension": ".py",
   "mimetype": "text/x-python",
   "name": "python",
   "nbconvert_exporter": "python",
   "pygments_lexer": "ipython3",
   "version": "3.10.0"
  }
 },
 "nbformat": 4,
 "nbformat_minor": 4
}
